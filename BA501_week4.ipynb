{
 "cells": [
  {
   "cell_type": "code",
   "execution_count": 1,
   "metadata": {
    "collapsed": true
   },
   "outputs": [],
   "source": [
    "import numpy as np\n",
    "import pandas as pd\n",
    "import matplotlib.pyplot as plt "
   ]
  },
  {
   "cell_type": "code",
   "execution_count": 2,
   "metadata": {},
   "outputs": [
    {
     "name": "stdout",
     "output_type": "stream",
     "text": [
      "[1, 2, 4, 6, 7, 8, 3]\n"
     ]
    }
   ],
   "source": [
    "#remove a duplicate in a list\n",
    "a=[1,2,4,6,7,8,1,3,4]\n",
    "def remove_duplicates(values):\n",
    "    output = []\n",
    "    seen = set()\n",
    "    for value in values:\n",
    "        # If value has not been encountered yet,\n",
    "        # ... add it to both list and set.\n",
    "        if value not in seen:\n",
    "            output.append(value)\n",
    "            seen.add(value)\n",
    "    return output\n",
    "print(remove_duplicates(a))"
   ]
  },
  {
   "cell_type": "code",
   "execution_count": 3,
   "metadata": {},
   "outputs": [
    {
     "data": {
      "text/plain": [
       "array([1, 2, 3, 4, 6, 7, 8])"
      ]
     },
     "execution_count": 3,
     "metadata": {},
     "output_type": "execute_result"
    }
   ],
   "source": [
    " #remove a duplicate in a list\n",
    "np.unique(a)"
   ]
  },
  {
   "cell_type": "code",
   "execution_count": 4,
   "metadata": {},
   "outputs": [
    {
     "name": "stdout",
     "output_type": "stream",
     "text": [
      "   A  B  C\n",
      "0  1  1  2\n",
      "1  1  3  3\n",
      "2  5  6  6\n",
      "   A  B  C\n",
      "0  1  1  2\n",
      "2  5  6  6\n"
     ]
    }
   ],
   "source": [
    "#drop duplicates in a data frame\n",
    "a=np.array([[1,1,2],[1,3,3],[5,6,6]])\n",
    "b=pd.DataFrame(a,columns=list('ABC'))\n",
    "print b\n",
    "print b.drop_duplicates(subset='A', keep=\"first\")"
   ]
  },
  {
   "cell_type": "markdown",
   "metadata": {},
   "source": [
    "##You are given two tables - friend_request and request_accepted. Friend_request contains requester_id, time and sent_to_id and request_accepted table contains time, acceptor_id and requestor_id. How will you determine the overall acceptance rate of requests? \n"
   ]
  },
  {
   "cell_type": "code",
   "execution_count": 5,
   "metadata": {},
   "outputs": [
    {
     "data": {
      "text/plain": [
       "0.6"
      ]
     },
     "execution_count": 5,
     "metadata": {},
     "output_type": "execute_result"
    }
   ],
   "source": [
    "#python\n",
    "requested_accepted=pd.DataFrame(\n",
    "    {'time':['5/17/2017','5/18/2017','5/20/2017'],\n",
    "     'accepter_id':['10001','10002','1003'],\n",
    "     'requester_id':['1003', '1002','1005']\n",
    "})\n",
    "friend_reqested=pd.DataFrame(\n",
    "    {'time':['4/17/2017','4/18/2017','4/19/2017','4/21/2017','4/23/2017'],\n",
    "     'sent_to_id':['1','2','3','4','5'],\n",
    "     'requester_id':['1001', '1002','1003','1004','1005']\n",
    "})\n",
    "len(np.unique(requested_accepted['requester_id']))/float(len(np.unique(friend_reqested['requester_id'])))\n"
   ]
  },
  {
   "cell_type": "code",
   "execution_count": 6,
   "metadata": {},
   "outputs": [
    {
     "data": {
      "text/plain": [
       "'Connected: None@None'"
      ]
     },
     "execution_count": 6,
     "metadata": {},
     "output_type": "execute_result"
    }
   ],
   "source": [
    "#using SQL \n",
    "%load_ext sql\n",
    "%sql sqlite://"
   ]
  },
  {
   "cell_type": "code",
   "execution_count": 7,
   "metadata": {},
   "outputs": [
    {
     "name": "stdout",
     "output_type": "stream",
     "text": [
      "Done.\n"
     ]
    },
    {
     "data": {
      "text/plain": [
       "[]"
      ]
     },
     "execution_count": 7,
     "metadata": {},
     "output_type": "execute_result"
    }
   ],
   "source": [
    "%%sql\n",
    "Create Table requested_accepted(time varchar(10), \n",
    "                                accepter_id varchart(10), \n",
    "                                requester_id varchart (10));"
   ]
  },
  {
   "cell_type": "code",
   "execution_count": 8,
   "metadata": {},
   "outputs": [
    {
     "name": "stdout",
     "output_type": "stream",
     "text": [
      "1 rows affected.\n",
      "1 rows affected.\n",
      "1 rows affected.\n"
     ]
    },
    {
     "data": {
      "text/plain": [
       "[]"
      ]
     },
     "execution_count": 8,
     "metadata": {},
     "output_type": "execute_result"
    }
   ],
   "source": [
    "%%sql\n",
    "Insert into requested_accepted Values('5/17/2017','10001','1003');\n",
    "Insert into requested_accepted Values('5/18/2017','10002','1002');\n",
    "Insert into requested_accepted Values('5/20/2017','10003','1005');"
   ]
  },
  {
   "cell_type": "code",
   "execution_count": 9,
   "metadata": {},
   "outputs": [
    {
     "name": "stdout",
     "output_type": "stream",
     "text": [
      "Done.\n"
     ]
    },
    {
     "data": {
      "text/html": [
       "<table>\n",
       "    <tr>\n",
       "        <th>time</th>\n",
       "        <th>accepter_id</th>\n",
       "        <th>requester_id</th>\n",
       "    </tr>\n",
       "    <tr>\n",
       "        <td>5/17/2017</td>\n",
       "        <td>10001</td>\n",
       "        <td>1003</td>\n",
       "    </tr>\n",
       "    <tr>\n",
       "        <td>5/18/2017</td>\n",
       "        <td>10002</td>\n",
       "        <td>1002</td>\n",
       "    </tr>\n",
       "    <tr>\n",
       "        <td>5/20/2017</td>\n",
       "        <td>10003</td>\n",
       "        <td>1005</td>\n",
       "    </tr>\n",
       "</table>"
      ],
      "text/plain": [
       "[(u'5/17/2017', u'10001', u'1003'),\n",
       " (u'5/18/2017', u'10002', u'1002'),\n",
       " (u'5/20/2017', u'10003', u'1005')]"
      ]
     },
     "execution_count": 9,
     "metadata": {},
     "output_type": "execute_result"
    }
   ],
   "source": [
    "%sql select * from requested_accepted"
   ]
  },
  {
   "cell_type": "code",
   "execution_count": 10,
   "metadata": {},
   "outputs": [
    {
     "name": "stdout",
     "output_type": "stream",
     "text": [
      "Done.\n"
     ]
    },
    {
     "data": {
      "text/plain": [
       "[]"
      ]
     },
     "execution_count": 10,
     "metadata": {},
     "output_type": "execute_result"
    }
   ],
   "source": [
    "%%sql\n",
    "Create Table friend_reqested (time varchar(10), \n",
    "                                sent_to_id varchart(10), \n",
    "                                requester_id varchart (10));"
   ]
  },
  {
   "cell_type": "code",
   "execution_count": 11,
   "metadata": {},
   "outputs": [
    {
     "name": "stdout",
     "output_type": "stream",
     "text": [
      "1 rows affected.\n",
      "1 rows affected.\n",
      "1 rows affected.\n",
      "1 rows affected.\n",
      "1 rows affected.\n"
     ]
    },
    {
     "data": {
      "text/plain": [
       "[]"
      ]
     },
     "execution_count": 11,
     "metadata": {},
     "output_type": "execute_result"
    }
   ],
   "source": [
    "%%sql\n",
    "Insert into friend_reqested Values('4/17/2017','1','1001');\n",
    "Insert into friend_reqested Values('4/18/2017','2','1002');\n",
    "Insert into friend_reqested Values('4/19/2017','3','1003');\n",
    "Insert into friend_reqested Values('4/21/2017','4','1004');\n",
    "Insert into friend_reqested Values('4/23/2017','5','1005');"
   ]
  },
  {
   "cell_type": "code",
   "execution_count": 12,
   "metadata": {},
   "outputs": [
    {
     "name": "stdout",
     "output_type": "stream",
     "text": [
      "Done.\n"
     ]
    },
    {
     "data": {
      "text/html": [
       "<table>\n",
       "    <tr>\n",
       "        <th>time</th>\n",
       "        <th>sent_to_id</th>\n",
       "        <th>requester_id</th>\n",
       "    </tr>\n",
       "    <tr>\n",
       "        <td>4/17/2017</td>\n",
       "        <td>1</td>\n",
       "        <td>1001</td>\n",
       "    </tr>\n",
       "    <tr>\n",
       "        <td>4/18/2017</td>\n",
       "        <td>2</td>\n",
       "        <td>1002</td>\n",
       "    </tr>\n",
       "    <tr>\n",
       "        <td>4/19/2017</td>\n",
       "        <td>3</td>\n",
       "        <td>1003</td>\n",
       "    </tr>\n",
       "    <tr>\n",
       "        <td>4/21/2017</td>\n",
       "        <td>4</td>\n",
       "        <td>1004</td>\n",
       "    </tr>\n",
       "    <tr>\n",
       "        <td>4/23/2017</td>\n",
       "        <td>5</td>\n",
       "        <td>1005</td>\n",
       "    </tr>\n",
       "</table>"
      ],
      "text/plain": [
       "[(u'4/17/2017', u'1', u'1001'),\n",
       " (u'4/18/2017', u'2', u'1002'),\n",
       " (u'4/19/2017', u'3', u'1003'),\n",
       " (u'4/21/2017', u'4', u'1004'),\n",
       " (u'4/23/2017', u'5', u'1005')]"
      ]
     },
     "execution_count": 12,
     "metadata": {},
     "output_type": "execute_result"
    }
   ],
   "source": [
    "%sql select * from friend_reqested"
   ]
  },
  {
   "cell_type": "code",
   "execution_count": 27,
   "metadata": {},
   "outputs": [
    {
     "name": "stdout",
     "output_type": "stream",
     "text": [
      "(sqlite3.OperationalError) near \"into\": syntax error [SQL: u'Select Count(distinct requester_id) as numberofrequested into temp1\\nfrom friend_reqested']\n"
     ]
    }
   ],
   "source": [
    "%%sql\n",
    "Select Count(distinct requester_id) as numberofrequested into temp1\n",
    "from friend_reqested"
   ]
  },
  {
   "cell_type": "code",
   "execution_count": 42,
   "metadata": {},
   "outputs": [
    {
     "name": "stdout",
     "output_type": "stream",
     "text": [
      "Done.\n"
     ]
    },
    {
     "data": {
      "text/html": [
       "<table>\n",
       "    <tr>\n",
       "        <th>accptedrate</th>\n",
       "    </tr>\n",
       "    <tr>\n",
       "        <td>0.6</td>\n",
       "    </tr>\n",
       "</table>"
      ],
      "text/plain": [
       "[(0.6,)]"
      ]
     },
     "execution_count": 42,
     "metadata": {},
     "output_type": "execute_result"
    }
   ],
   "source": [
    "%%sql\n",
    "select CAST(count(distinct R.requester_id) AS FLOAT)/count(distinct F.requester_id) as accptedrate\n",
    "from friend_reqested F\n",
    "left join requested_accepted R\n",
    "on F.requester_id=R.requester_id"
   ]
  },
  {
   "cell_type": "code",
   "execution_count": null,
   "metadata": {
    "collapsed": true
   },
   "outputs": [],
   "source": []
  }
 ],
 "metadata": {
  "anaconda-cloud": {},
  "kernelspec": {
   "display_name": "Python [default]",
   "language": "python",
   "name": "python2"
  },
  "language_info": {
   "codemirror_mode": {
    "name": "ipython",
    "version": 2
   },
   "file_extension": ".py",
   "mimetype": "text/x-python",
   "name": "python",
   "nbconvert_exporter": "python",
   "pygments_lexer": "ipython2",
   "version": "2.7.12"
  }
 },
 "nbformat": 4,
 "nbformat_minor": 1
}
