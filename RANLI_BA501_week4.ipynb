{
 "cells": [
  {
   "cell_type": "code",
   "execution_count": 1,
   "metadata": {
    "collapsed": true
   },
   "outputs": [],
   "source": [
    "import numpy as np\n",
    "import pandas as pd\n",
    "import matplotlib.pyplot as plt \n",
    "%matplotlib inline"
   ]
  },
  {
   "cell_type": "code",
   "execution_count": 2,
   "metadata": {},
   "outputs": [
    {
     "name": "stdout",
     "output_type": "stream",
     "text": [
      "[1, 2, 4, 6, 7, 8, 3]\n"
     ]
    }
   ],
   "source": [
    "#remove a duplicate in a list\n",
    "a=[1,2,4,6,7,8,1,3,4]\n",
    "def remove_duplicates(values):\n",
    "    output = []\n",
    "    seen = set()\n",
    "    for value in values:\n",
    "        # If value has not been encountered yet,\n",
    "        # ... add it to both list and set.\n",
    "        if value not in seen:\n",
    "            output.append(value)\n",
    "            seen.add(value)\n",
    "    return output\n",
    "print(remove_duplicates(a))"
   ]
  },
  {
   "cell_type": "code",
   "execution_count": 3,
   "metadata": {},
   "outputs": [
    {
     "data": {
      "text/plain": [
       "array([1, 2, 3, 4, 6, 7, 8])"
      ]
     },
     "execution_count": 3,
     "metadata": {},
     "output_type": "execute_result"
    }
   ],
   "source": [
    " #remove a duplicate in a list\n",
    "np.unique(a)"
   ]
  },
  {
   "cell_type": "code",
   "execution_count": 4,
   "metadata": {},
   "outputs": [
    {
     "name": "stdout",
     "output_type": "stream",
     "text": [
      "   A  B  C\n",
      "0  1  1  2\n",
      "1  1  3  3\n",
      "2  5  6  6\n",
      "   A  B  C\n",
      "0  1  1  2\n",
      "2  5  6  6\n"
     ]
    }
   ],
   "source": [
    "#drop duplicates in a data frame\n",
    "a=np.array([[1,1,2],[1,3,3],[5,6,6]])\n",
    "b=pd.DataFrame(a,columns=list('ABC'))\n",
    "print b\n",
    "print b.drop_duplicates(subset='A', keep=\"first\")"
   ]
  },
  {
   "cell_type": "markdown",
   "metadata": {},
   "source": [
    "You are given two tables - friend_request and request_accepted. Friend_request contains requester_id, time and sent_to_id and request_accepted table contains time, acceptor_id and requestor_id. How will you determine the overall acceptance rate of requests? \n"
   ]
  },
  {
   "cell_type": "code",
   "execution_count": 5,
   "metadata": {},
   "outputs": [
    {
     "data": {
      "text/plain": [
       "0.6"
      ]
     },
     "execution_count": 5,
     "metadata": {},
     "output_type": "execute_result"
    }
   ],
   "source": [
    "#python\n",
    "requested_accepted=pd.DataFrame(\n",
    "    {'time':['5/17/2017','5/18/2017','5/20/2017'],\n",
    "     'accepter_id':['10001','10002','1003'],\n",
    "     'requester_id':['1003', '1002','1005']\n",
    "})\n",
    "friend_reqested=pd.DataFrame(\n",
    "    {'time':['4/17/2017','4/18/2017','4/19/2017','4/21/2017','4/23/2017'],\n",
    "     'sent_to_id':['1','2','3','4','5'],\n",
    "     'requester_id':['1001', '1002','1003','1004','1005']\n",
    "})\n",
    "len(np.unique(requested_accepted['requester_id']))/float(len(np.unique(friend_reqested['requester_id'])))\n"
   ]
  },
  {
   "cell_type": "code",
   "execution_count": 6,
   "metadata": {},
   "outputs": [
    {
     "data": {
      "text/plain": [
       "'Connected: None@None'"
      ]
     },
     "execution_count": 6,
     "metadata": {},
     "output_type": "execute_result"
    }
   ],
   "source": [
    "#using SQL \n",
    "%load_ext sql\n",
    "%sql sqlite://"
   ]
  },
  {
   "cell_type": "code",
   "execution_count": 7,
   "metadata": {},
   "outputs": [
    {
     "name": "stdout",
     "output_type": "stream",
     "text": [
      "Done.\n"
     ]
    },
    {
     "data": {
      "text/plain": [
       "[]"
      ]
     },
     "execution_count": 7,
     "metadata": {},
     "output_type": "execute_result"
    }
   ],
   "source": [
    "%%sql\n",
    "Create Table requested_accepted(time varchar(10), \n",
    "                                accepter_id varchart(10), \n",
    "                                requester_id varchart (10));"
   ]
  },
  {
   "cell_type": "code",
   "execution_count": 8,
   "metadata": {},
   "outputs": [
    {
     "name": "stdout",
     "output_type": "stream",
     "text": [
      "1 rows affected.\n",
      "1 rows affected.\n",
      "1 rows affected.\n"
     ]
    },
    {
     "data": {
      "text/plain": [
       "[]"
      ]
     },
     "execution_count": 8,
     "metadata": {},
     "output_type": "execute_result"
    }
   ],
   "source": [
    "%%sql\n",
    "Insert into requested_accepted Values('5/17/2017','10001','1003');\n",
    "Insert into requested_accepted Values('5/18/2017','10002','1002');\n",
    "Insert into requested_accepted Values('5/20/2017','10003','1005');"
   ]
  },
  {
   "cell_type": "code",
   "execution_count": 9,
   "metadata": {},
   "outputs": [
    {
     "name": "stdout",
     "output_type": "stream",
     "text": [
      "Done.\n"
     ]
    },
    {
     "data": {
      "text/html": [
       "<table>\n",
       "    <tr>\n",
       "        <th>time</th>\n",
       "        <th>accepter_id</th>\n",
       "        <th>requester_id</th>\n",
       "    </tr>\n",
       "    <tr>\n",
       "        <td>5/17/2017</td>\n",
       "        <td>10001</td>\n",
       "        <td>1003</td>\n",
       "    </tr>\n",
       "    <tr>\n",
       "        <td>5/18/2017</td>\n",
       "        <td>10002</td>\n",
       "        <td>1002</td>\n",
       "    </tr>\n",
       "    <tr>\n",
       "        <td>5/20/2017</td>\n",
       "        <td>10003</td>\n",
       "        <td>1005</td>\n",
       "    </tr>\n",
       "</table>"
      ],
      "text/plain": [
       "[(u'5/17/2017', u'10001', u'1003'),\n",
       " (u'5/18/2017', u'10002', u'1002'),\n",
       " (u'5/20/2017', u'10003', u'1005')]"
      ]
     },
     "execution_count": 9,
     "metadata": {},
     "output_type": "execute_result"
    }
   ],
   "source": [
    "%sql select * from requested_accepted"
   ]
  },
  {
   "cell_type": "code",
   "execution_count": 10,
   "metadata": {},
   "outputs": [
    {
     "name": "stdout",
     "output_type": "stream",
     "text": [
      "Done.\n"
     ]
    },
    {
     "data": {
      "text/plain": [
       "[]"
      ]
     },
     "execution_count": 10,
     "metadata": {},
     "output_type": "execute_result"
    }
   ],
   "source": [
    "%%sql\n",
    "Create Table friend_reqested (time varchar(10), \n",
    "                                sent_to_id varchart(10), \n",
    "                                requester_id varchart (10));"
   ]
  },
  {
   "cell_type": "code",
   "execution_count": 11,
   "metadata": {},
   "outputs": [
    {
     "name": "stdout",
     "output_type": "stream",
     "text": [
      "1 rows affected.\n",
      "1 rows affected.\n",
      "1 rows affected.\n",
      "1 rows affected.\n",
      "1 rows affected.\n"
     ]
    },
    {
     "data": {
      "text/plain": [
       "[]"
      ]
     },
     "execution_count": 11,
     "metadata": {},
     "output_type": "execute_result"
    }
   ],
   "source": [
    "%%sql\n",
    "Insert into friend_reqested Values('4/17/2017','1','1001');\n",
    "Insert into friend_reqested Values('4/18/2017','2','1002');\n",
    "Insert into friend_reqested Values('4/19/2017','3','1003');\n",
    "Insert into friend_reqested Values('4/21/2017','4','1004');\n",
    "Insert into friend_reqested Values('4/23/2017','5','1005');"
   ]
  },
  {
   "cell_type": "code",
   "execution_count": 12,
   "metadata": {},
   "outputs": [
    {
     "name": "stdout",
     "output_type": "stream",
     "text": [
      "Done.\n"
     ]
    },
    {
     "data": {
      "text/html": [
       "<table>\n",
       "    <tr>\n",
       "        <th>time</th>\n",
       "        <th>sent_to_id</th>\n",
       "        <th>requester_id</th>\n",
       "    </tr>\n",
       "    <tr>\n",
       "        <td>4/17/2017</td>\n",
       "        <td>1</td>\n",
       "        <td>1001</td>\n",
       "    </tr>\n",
       "    <tr>\n",
       "        <td>4/18/2017</td>\n",
       "        <td>2</td>\n",
       "        <td>1002</td>\n",
       "    </tr>\n",
       "    <tr>\n",
       "        <td>4/19/2017</td>\n",
       "        <td>3</td>\n",
       "        <td>1003</td>\n",
       "    </tr>\n",
       "    <tr>\n",
       "        <td>4/21/2017</td>\n",
       "        <td>4</td>\n",
       "        <td>1004</td>\n",
       "    </tr>\n",
       "    <tr>\n",
       "        <td>4/23/2017</td>\n",
       "        <td>5</td>\n",
       "        <td>1005</td>\n",
       "    </tr>\n",
       "</table>"
      ],
      "text/plain": [
       "[(u'4/17/2017', u'1', u'1001'),\n",
       " (u'4/18/2017', u'2', u'1002'),\n",
       " (u'4/19/2017', u'3', u'1003'),\n",
       " (u'4/21/2017', u'4', u'1004'),\n",
       " (u'4/23/2017', u'5', u'1005')]"
      ]
     },
     "execution_count": 12,
     "metadata": {},
     "output_type": "execute_result"
    }
   ],
   "source": [
    "%sql select * from friend_reqested"
   ]
  },
  {
   "cell_type": "code",
   "execution_count": 13,
   "metadata": {},
   "outputs": [
    {
     "name": "stdout",
     "output_type": "stream",
     "text": [
      "Done.\n"
     ]
    },
    {
     "data": {
      "text/html": [
       "<table>\n",
       "    <tr>\n",
       "        <th>accptedrate</th>\n",
       "    </tr>\n",
       "    <tr>\n",
       "        <td>0.6</td>\n",
       "    </tr>\n",
       "</table>"
      ],
      "text/plain": [
       "[(0.6,)]"
      ]
     },
     "execution_count": 13,
     "metadata": {},
     "output_type": "execute_result"
    }
   ],
   "source": [
    "%%sql\n",
    "select CAST(count(distinct R.requester_id) AS FLOAT)/count(distinct F.requester_id) as accptedrate\n",
    "from friend_reqested F\n",
    "left join requested_accepted R\n",
    "on F.requester_id=R.requester_id"
   ]
  },
  {
   "cell_type": "markdown",
   "metadata": {},
   "source": [
    "Do some research and summarize the business model of your dream company, or company that you interview with.\n",
    "What is the product\n",
    "Who are the customer\n",
    "How do they make money\n",
    "Why do you want to work for this company?\n"
   ]
  },
  {
   "cell_type": "markdown",
   "metadata": {},
   "source": [
    "1.My dream company is paypal, the product is paypal, a worldwide online payment system.\n",
    "2.The target customer is every single person and small business.\n",
    "3.Two ways Paypal can make money: one way is charing to a payment recipient, another way is earning interest against the money that you have sitting in your account.\n",
    "4.Paypal is the largest company in online payment industry. I am the loyal customer of Paypal. paypal can provide the most safe and easiest way to transfer money, which benefit to our life. "
   ]
  },
  {
   "cell_type": "code",
   "execution_count": 14,
   "metadata": {},
   "outputs": [
    {
     "data": {
      "text/html": [
       "<div>\n",
       "<style>\n",
       "    .dataframe thead tr:only-child th {\n",
       "        text-align: right;\n",
       "    }\n",
       "\n",
       "    .dataframe thead th {\n",
       "        text-align: left;\n",
       "    }\n",
       "\n",
       "    .dataframe tbody tr th {\n",
       "        vertical-align: top;\n",
       "    }\n",
       "</style>\n",
       "<table border=\"1\" class=\"dataframe\">\n",
       "  <thead>\n",
       "    <tr style=\"text-align: right;\">\n",
       "      <th></th>\n",
       "      <th>country</th>\n",
       "      <th>date</th>\n",
       "      <th>experiment_id</th>\n",
       "      <th>order_id</th>\n",
       "      <th>spend_usd</th>\n",
       "      <th>user_id</th>\n",
       "      <th>vertical</th>\n",
       "    </tr>\n",
       "  </thead>\n",
       "  <tbody>\n",
       "    <tr>\n",
       "      <th>0</th>\n",
       "      <td>JP</td>\n",
       "      <td>2017-04-02</td>\n",
       "      <td>12624548</td>\n",
       "      <td>5813140433216629693</td>\n",
       "      <td>16.138855</td>\n",
       "      <td>5006730028073359543</td>\n",
       "      <td>ANDROID_APPS</td>\n",
       "    </tr>\n",
       "    <tr>\n",
       "      <th>1</th>\n",
       "      <td>US</td>\n",
       "      <td>2017-04-03</td>\n",
       "      <td>12624549</td>\n",
       "      <td>16333056276711034931</td>\n",
       "      <td>9.990000</td>\n",
       "      <td>5938685669571545259</td>\n",
       "      <td>ANDROID_APPS</td>\n",
       "    </tr>\n",
       "    <tr>\n",
       "      <th>2</th>\n",
       "      <td>JP</td>\n",
       "      <td>2017-04-04</td>\n",
       "      <td>12624548</td>\n",
       "      <td>11227119161741298366</td>\n",
       "      <td>19.887087</td>\n",
       "      <td>17623708458399141713</td>\n",
       "      <td>ANDROID_APPS</td>\n",
       "    </tr>\n",
       "    <tr>\n",
       "      <th>3</th>\n",
       "      <td>US</td>\n",
       "      <td>2017-04-03</td>\n",
       "      <td>12624548</td>\n",
       "      <td>11927299833124210932</td>\n",
       "      <td>19.990000</td>\n",
       "      <td>18042812344456618148</td>\n",
       "      <td>ANDROID_APPS</td>\n",
       "    </tr>\n",
       "    <tr>\n",
       "      <th>4</th>\n",
       "      <td>JP</td>\n",
       "      <td>2017-04-03</td>\n",
       "      <td>12624549</td>\n",
       "      <td>11644727017708872749</td>\n",
       "      <td>88.220093</td>\n",
       "      <td>4325104700699531031</td>\n",
       "      <td>ANDROID_APPS</td>\n",
       "    </tr>\n",
       "  </tbody>\n",
       "</table>\n",
       "</div>"
      ],
      "text/plain": [
       "  country       date  experiment_id              order_id  spend_usd  \\\n",
       "0      JP 2017-04-02       12624548   5813140433216629693  16.138855   \n",
       "1      US 2017-04-03       12624549  16333056276711034931   9.990000   \n",
       "2      JP 2017-04-04       12624548  11227119161741298366  19.887087   \n",
       "3      US 2017-04-03       12624548  11927299833124210932  19.990000   \n",
       "4      JP 2017-04-03       12624549  11644727017708872749  88.220093   \n",
       "\n",
       "                user_id      vertical  \n",
       "0   5006730028073359543  ANDROID_APPS  \n",
       "1   5938685669571545259  ANDROID_APPS  \n",
       "2  17623708458399141713  ANDROID_APPS  \n",
       "3  18042812344456618148  ANDROID_APPS  \n",
       "4   4325104700699531031  ANDROID_APPS  "
      ]
     },
     "execution_count": 14,
     "metadata": {},
     "output_type": "execute_result"
    }
   ],
   "source": [
    "import datetime\n",
    "df=pd.read_csv('BA501_python_data.csv')\n",
    "#df.date=np.datetime64[D](df.date )\n",
    "df.date=pd.to_datetime(df.date, format='%Y%m%d')\n",
    "df.head(5)"
   ]
  },
  {
   "cell_type": "code",
   "execution_count": 15,
   "metadata": {},
   "outputs": [
    {
     "data": {
      "text/plain": [
       "397069.86045892676"
      ]
     },
     "execution_count": 15,
     "metadata": {},
     "output_type": "execute_result"
    }
   ],
   "source": [
    "sum(df['spend_usd'][df.experiment_id==12624548])"
   ]
  },
  {
   "cell_type": "code",
   "execution_count": 16,
   "metadata": {},
   "outputs": [
    {
     "data": {
      "text/plain": [
       "395487.78414993605"
      ]
     },
     "execution_count": 16,
     "metadata": {},
     "output_type": "execute_result"
    }
   ],
   "source": [
    "sum(df['spend_usd'][df.experiment_id==12624549])"
   ]
  },
  {
   "cell_type": "code",
   "execution_count": 17,
   "metadata": {},
   "outputs": [
    {
     "data": {
      "text/plain": [
       "array(['ANDROID_APPS', 'COMMERCE', 'MAGAZINES', 'MULTI_CONTAINER', 'MUSIC',\n",
       "       'OCEAN', 'YOUTUBE'], dtype=object)"
      ]
     },
     "execution_count": 17,
     "metadata": {},
     "output_type": "execute_result"
    }
   ],
   "source": [
    "df.head(5)\n",
    "np.unique(df.vertical)"
   ]
  },
  {
   "cell_type": "code",
   "execution_count": null,
   "metadata": {},
   "outputs": [],
   "source": []
  },
  {
   "cell_type": "code",
   "execution_count": 18,
   "metadata": {},
   "outputs": [
    {
     "data": {
      "text/plain": [
       "array([12624548, 12624549])"
      ]
     },
     "execution_count": 18,
     "metadata": {},
     "output_type": "execute_result"
    }
   ],
   "source": [
    "a=df.experiment_id\n",
    "np.unique(a)"
   ]
  },
  {
   "cell_type": "code",
   "execution_count": 19,
   "metadata": {},
   "outputs": [
    {
     "name": "stdout",
     "output_type": "stream",
     "text": [
      "['2017-04-01T00:00:00.000000000' '2017-04-02T00:00:00.000000000'\n",
      " '2017-04-03T00:00:00.000000000' '2017-04-04T00:00:00.000000000'\n",
      " '2017-04-05T00:00:00.000000000' '2017-04-06T00:00:00.000000000'\n",
      " '2017-04-07T00:00:00.000000000']\n"
     ]
    }
   ],
   "source": [
    "print np.unique(df.date)"
   ]
  },
  {
   "cell_type": "code",
   "execution_count": 20,
   "metadata": {},
   "outputs": [],
   "source": [
    "def GetSeries(df, my_id):\n",
    "    table = df[[\"date\", \"spend_usd\"]][df.experiment_id == my_id]\n",
    "    series =np.cumsum(table.groupby(['date'])['spend_usd'].sum())\n",
    "    return(series)\n"
   ]
  },
  {
   "cell_type": "code",
   "execution_count": 21,
   "metadata": {},
   "outputs": [
    {
     "name": "stdout",
     "output_type": "stream",
     "text": [
      "date\n",
      "2017-04-01     84017.341822\n",
      "2017-04-02    137448.866601\n",
      "2017-04-03    190557.548939\n",
      "2017-04-04    236190.035518\n",
      "2017-04-05    287575.193811\n",
      "2017-04-06    334991.572625\n",
      "2017-04-07    397069.860459\n",
      "Name: spend_usd, dtype: float64\n"
     ]
    }
   ],
   "source": [
    "red = GetSeries(df, 12624548)\n",
    "blue = GetSeries(df, 12624549)\n",
    "print (red)"
   ]
  },
  {
   "cell_type": "code",
   "execution_count": 22,
   "metadata": {},
   "outputs": [
    {
     "name": "stdout",
     "output_type": "stream",
     "text": [
      "date\n",
      "2017-04-01     79698.149014\n",
      "2017-04-02    135650.086580\n",
      "2017-04-03    183489.384696\n",
      "2017-04-04    229006.213561\n",
      "2017-04-05    283314.758617\n",
      "2017-04-06    337204.699429\n",
      "2017-04-07    395487.784150\n",
      "Name: spend_usd, dtype: float64\n"
     ]
    }
   ],
   "source": [
    "print blue"
   ]
  },
  {
   "cell_type": "code",
   "execution_count": 23,
   "metadata": {},
   "outputs": [
    {
     "name": "stdout",
     "output_type": "stream",
     "text": [
      "DatetimeIndex(['2017-04-01', '2017-04-02', '2017-04-03', '2017-04-04',\n",
      "               '2017-04-05', '2017-04-06', '2017-04-07'],\n",
      "              dtype='datetime64[ns]', name=u'date', freq=None)\n"
     ]
    }
   ],
   "source": [
    "index_series = red.index\n",
    "print index_series"
   ]
  },
  {
   "cell_type": "code",
   "execution_count": 24,
   "metadata": {},
   "outputs": [],
   "source": [
    "def PlotSeries(index_series, experiment_series, control_series):\n",
    "    df1 = pd.DataFrame(\n",
    "        {\n",
    "            \"experiment\": experiment_series.tolist(),\n",
    "            \"control\": control_series.tolist()\n",
    "        },\n",
    "        index = index_series, # a range of dates\n",
    "        columns = [\"experiment\", \"control\"]\n",
    "    )\n",
    "    df1.plot()\n",
    "    "
   ]
  },
  {
   "cell_type": "code",
   "execution_count": 25,
   "metadata": {},
   "outputs": [
    {
     "data": {
      "image/png": "[encoded data removed]",
      "text/plain": [
       "<matplotlib.figure.Figure at 0x10efc8f50>"
      ]
     },
     "metadata": {},
     "output_type": "display_data"
    }
   ],
   "source": [
    "\n",
    "# test if this works\n",
    "date_series = df.date\n",
    "index_series = np.unique(date_series)\n",
    "#index_series\n",
    "\n",
    "PlotSeries(index_series, red, blue)"
   ]
  },
  {
   "cell_type": "code",
   "execution_count": 26,
   "metadata": {},
   "outputs": [],
   "source": [
    "#date_series = df.date\n",
    "#index_series = np.unique(date_series) # unique date\n",
    "#index_series = np.sort(index_series) # sort by date\n",
    "#print index_series"
   ]
  },
  {
   "cell_type": "code",
   "execution_count": 27,
   "metadata": {
    "collapsed": true
   },
   "outputs": [],
   "source": [
    "def PrintCumulativeTimeSeries(df,experiment_ids):\n",
    "    #date_series = df.date\n",
    "    #index_series = np.unique(date_series) # unique date\n",
    "    #index_series = np.sort(index_series) # sort by date\n",
    "    \n",
    "    # data grouping\n",
    "    #mdf = df.sort_values(\"date\", ascending=True, inplace=False)\n",
    "    treatment_series = GetSeries(df, experiment_ids[0])\n",
    "    control_series = GetSeries(df, experiment_ids[1])\n",
    "    \n",
    "    PlotSeries(index_series, treatment_series, control_series)"
   ]
  },
  {
   "cell_type": "code",
   "execution_count": 28,
   "metadata": {},
   "outputs": [
    {
     "data": {
      "image/png": "[encoded data removed]",
      "text/plain": [
       "<matplotlib.figure.Figure at 0x10fcff390>"
      ]
     },
     "metadata": {},
     "output_type": "display_data"
    }
   ],
   "source": [
    "\n",
    "PrintCumulativeTimeSeries(df,[12624548,12624549])"
   ]
  },
  {
   "cell_type": "code",
   "execution_count": null,
   "metadata": {
    "collapsed": true
   },
   "outputs": [],
   "source": []
  }
 ],
 "metadata": {
  "anaconda-cloud": {},
  "kernelspec": {
   "display_name": "Python [default]",
   "language": "python",
   "name": "python2"
  },
  "language_info": {
   "codemirror_mode": {
    "name": "ipython",
    "version": 2
   },
   "file_extension": ".py",
   "mimetype": "text/x-python",
   "name": "python",
   "nbconvert_exporter": "python",
   "pygments_lexer": "ipython2",
   "version": "2.7.12"
  }
 },
 "nbformat": 4,
 "nbformat_minor": 1
}
